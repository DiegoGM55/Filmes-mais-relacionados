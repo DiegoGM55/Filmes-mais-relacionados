{
  "nbformat": 4,
  "nbformat_minor": 0,
  "metadata": {
    "colab": {
      "provenance": []
    },
    "kernelspec": {
      "name": "python3",
      "display_name": "Python 3"
    },
    "language_info": {
      "name": "python"
    }
  },
  "cells": [
    {
      "cell_type": "markdown",
      "source": [
        "**Escolha da função:**  ![image.png](data:image/png;base64,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)\n",
        "\n",
        "Foi escolhida a função pois quanto maior o cosseno e menor a distância, maior será a pontuação, mostrando assim quais são os vetores mais próximos. Os escaleres tem valor 1 pois não foi notado uma mudança significativa com outros valores.\n",
        "Uma observação é que resultados melhores foram notados filtrando apenas pela menor distância.\n",
        "\n",
        "PS: Para executar precisa colocar o arquivo scores.csv e movies.csv na mesma pasta."
      ],
      "metadata": {
        "id": "L00z_Dw7YoNw"
      }
    },
    {
      "cell_type": "markdown",
      "source": [
        "# Iniciando as bibliotecas e lendo o arquivo **scores.csv**"
      ],
      "metadata": {
        "id": "X65ZOe_u_J8k"
      }
    },
    {
      "cell_type": "code",
      "metadata": {
        "id": "f2UGRkCUCO0U"
      },
      "source": [
        "import pandas as pd\n",
        "import numpy as np\n",
        "\n",
        "scores = pd.read_csv('scores.csv')"
      ],
      "execution_count": null,
      "outputs": []
    },
    {
      "cell_type": "markdown",
      "source": [
        "# Pega de 1128 em 1128 registros e coloca em um **np.array** e concantena na lista, e então retorna a lista."
      ],
      "metadata": {
        "id": "_-c8KaeyAFE7"
      }
    },
    {
      "cell_type": "code",
      "metadata": {
        "id": "uwPhD6ncDKQ9"
      },
      "source": [
        "def retornaValoresEmVet(scores):\n",
        "  tamanho = int(scores.shape[0]/1128)\n",
        "  indice = int(scores['movieid'].loc[:0])\n",
        "  lista = []\n",
        "  for i in range(tamanho):\n",
        "    x = np.array(scores['relevance'].loc[scores['movieid']==indice])\n",
        "    indice+=1\n",
        "    lista.append(x)\n",
        "  return lista\n",
        "\n",
        "lista = retornaValoresEmVet(scores)"
      ],
      "execution_count": null,
      "outputs": []
    },
    {
      "cell_type": "markdown",
      "source": [
        "# Função **cosseno** e **distância**"
      ],
      "metadata": {
        "id": "PpXVnpbQA4FV"
      }
    },
    {
      "cell_type": "code",
      "metadata": {
        "id": "ZwI-HImnMUTG"
      },
      "source": [
        "def cos(u,v):\n",
        "  return (u @ v)/np.linalg.norm(u)*np.linalg.norm(v)\n",
        "\n",
        "def dist(u,v):\n",
        "  return np.linalg.norm(u-v)"
      ],
      "execution_count": null,
      "outputs": []
    },
    {
      "cell_type": "markdown",
      "source": [
        "# Retorna um vetor com o índice dos 5 filmes com a maior pontuação."
      ],
      "metadata": {
        "id": "d1rgo1hcBL1C"
      }
    },
    {
      "cell_type": "code",
      "metadata": {
        "id": "JwXpQpeFZ5nM"
      },
      "source": [
        "def maisRelacionados(f, lista):\n",
        "  pontuacao = []\n",
        "  for i in range(len(lista)):\n",
        "    if set(lista[f]) == set(lista[i]):\n",
        "      pontuacao.append(0)\n",
        "    else:\n",
        "      alpha = 1\n",
        "      beta = 1\n",
        "      pontuacao.append((alpha*cos(lista[f],lista[i]))/(beta*dist(lista[f],lista[i])))\n",
        "  pontuacao = np.array(pontuacao).argsort()[-5:]\n",
        "  return pontuacao"
      ],
      "execution_count": null,
      "outputs": []
    },
    {
      "cell_type": "code",
      "source": [
        "movies = pd.read_csv('movies.csv')"
      ],
      "metadata": {
        "id": "mbXHWsfOR6wN"
      },
      "execution_count": null,
      "outputs": []
    },
    {
      "cell_type": "markdown",
      "source": [
        "# Pega o vetor ou número dado, e pesquisa os índices na lista movies"
      ],
      "metadata": {
        "id": "vchDqpagFP31"
      }
    },
    {
      "cell_type": "code",
      "source": [
        "def getMovieName(n,movies):\n",
        "  if not isinstance(n, int):\n",
        "    movies_names = []\n",
        "    for i in n:\n",
        "      movies_names.append(movies['title'].loc[movies['id']==i].to_string(index=False))\n",
        "    return movies_names\n",
        "  else:\n",
        "    return movies['title'].loc[movies['id']==n].to_string(index=False)"
      ],
      "metadata": {
        "id": "MhgEdcbBXGic"
      },
      "execution_count": null,
      "outputs": []
    },
    {
      "cell_type": "code",
      "source": [
        "search_movie = int(input(\"Digite o id do filme a ser buscado: \"))\n",
        "mr = maisRelacionados(search_movie, lista)\n",
        "print(\"Os filmes mais relacionados com\",getMovieName(search_movie,movies),\" são: \\n\",\n",
        "      getMovieName(mr,movies))"
      ],
      "metadata": {
        "colab": {
          "base_uri": "https://localhost:8080/"
        },
        "id": "FgdiYITTYHbU",
        "outputId": "c518630d-2c30-4806-e4ae-951ef91e0027"
      },
      "execution_count": null,
      "outputs": [
        {
          "output_type": "stream",
          "name": "stdout",
          "text": [
            "Digite o id do filme a ser buscado: 46\n",
            "Os filmes mais relacionados com  Seven (a.k.a. Se7en) (1995)  são: \n",
            " [' Pulp Fiction (1994)', ' Taxi Driver (1976)', ' Reservoir Dogs (1992)', ' Silence of the Lambs, The (1991)', ' Usual Suspects, The (1995)']\n"
          ]
        }
      ]
    }
  ]
}